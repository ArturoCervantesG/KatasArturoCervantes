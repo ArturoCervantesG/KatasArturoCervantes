{
 "cells": [
  {
   "cell_type": "code",
   "execution_count": 5,
   "metadata": {},
   "outputs": [
    {
     "name": "stdout",
     "output_type": "stream",
     "text": [
      "Hay 8 planetas\n"
     ]
    }
   ],
   "source": [
    "planets=[\"Mercurio\",\"Venus\",\"Tierra\",\"Marte\",\"Júpiter\",\"Saturno\",\"Urano\",\"Neptuno\"]\n",
    "print(\"Hay \"+str(len(planets))+\" planetas\")"
   ]
  },
  {
   "cell_type": "code",
   "execution_count": 6,
   "metadata": {},
   "outputs": [
    {
     "name": "stdout",
     "output_type": "stream",
     "text": [
      "Hay 9 planetas\n"
     ]
    }
   ],
   "source": [
    "planets.append(\"Plutón\")\n",
    "print(\"Hay \"+str(len(planets))+\" planetas\")"
   ]
  },
  {
   "cell_type": "code",
   "execution_count": 11,
   "metadata": {},
   "outputs": [],
   "source": [
    "planeta=input(\"Escriba el nombre de un planeta (Empezando con mayúscula): \")"
   ]
  },
  {
   "cell_type": "code",
   "execution_count": 12,
   "metadata": {},
   "outputs": [],
   "source": [
    "indice=planets.index(planeta)"
   ]
  },
  {
   "cell_type": "code",
   "execution_count": 13,
   "metadata": {},
   "outputs": [
    {
     "name": "stdout",
     "output_type": "stream",
     "text": [
      "Estos son los planetas que están mas cerca del sol que Saturno\n",
      "['Mercurio', 'Venus', 'Tierra', 'Marte', 'Júpiter']\n"
     ]
    }
   ],
   "source": [
    "print(\"Estos son los planetas que están mas cerca del sol que \"+planeta)\n",
    "print(planets[0:indice])"
   ]
  },
  {
   "cell_type": "code",
   "execution_count": 14,
   "metadata": {},
   "outputs": [
    {
     "name": "stdout",
     "output_type": "stream",
     "text": [
      "Estos son los planetas que están mas lejanos del sol que Saturno\n",
      "['Urano', 'Neptuno', 'Plutón']\n"
     ]
    }
   ],
   "source": [
    "print(\"Estos son los planetas que están mas lejanos del sol que \"+planeta)\n",
    "print(planets[indice+1:])"
   ]
  }
 ],
 "metadata": {
  "interpreter": {
   "hash": "3be41b2d45040f01bc009424c30d4e1f0689f470fdedb74f5c4a83ed85c06539"
  },
  "kernelspec": {
   "display_name": "Python 3.10.2 64-bit",
   "language": "python",
   "name": "python3"
  },
  "language_info": {
   "codemirror_mode": {
    "name": "ipython",
    "version": 3
   },
   "file_extension": ".py",
   "mimetype": "text/x-python",
   "name": "python",
   "nbconvert_exporter": "python",
   "pygments_lexer": "ipython3",
   "version": "3.10.2"
  },
  "orig_nbformat": 4
 },
 "nbformat": 4,
 "nbformat_minor": 2
}
