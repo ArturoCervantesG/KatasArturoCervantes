{
 "cells": [
  {
   "cell_type": "code",
   "execution_count": 6,
   "metadata": {},
   "outputs": [
    {
     "name": "stdout",
     "output_type": "stream",
     "text": [
      "¡Cuidado, Un asteroide muy peligroso viene hacia la Tierra!\n",
      "¡El asteroide es visible desde la tierra!\n"
     ]
    }
   ],
   "source": [
    "velocidad=25\n",
    "tamaño=19\n",
    "if velocidad>=25:\n",
    "    print(\"¡Cuidado, Un asteroide muy peligroso viene hacia la Tierra!\")\n",
    "    print(\"¡El asteroide es visible desde la tierra!\")\n",
    "elif velocidad>=20:\n",
    "    print(\"¡El asteroide es visible desde la tierra!\")\n",
    "else:\n",
    "    print(\"El asteroide no es visible desde la tierra\")"
   ]
  }
 ],
 "metadata": {
  "interpreter": {
   "hash": "3be41b2d45040f01bc009424c30d4e1f0689f470fdedb74f5c4a83ed85c06539"
  },
  "kernelspec": {
   "display_name": "Python 3.10.2 64-bit",
   "language": "python",
   "name": "python3"
  },
  "language_info": {
   "codemirror_mode": {
    "name": "ipython",
    "version": 3
   },
   "file_extension": ".py",
   "mimetype": "text/x-python",
   "name": "python",
   "nbconvert_exporter": "python",
   "pygments_lexer": "ipython3",
   "version": "3.10.2"
  },
  "orig_nbformat": 4
 },
 "nbformat": 4,
 "nbformat_minor": 2
}
