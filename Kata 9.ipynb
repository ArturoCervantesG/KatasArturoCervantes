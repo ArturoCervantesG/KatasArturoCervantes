{
 "cells": [
  {
   "cell_type": "code",
   "execution_count": 23,
   "metadata": {},
   "outputs": [],
   "source": [
    "def info (tanque1, tanque2, tanque3):\n",
    "    prom=(tanque1 + tanque2 + tanque3) / 3\n",
    "    print(f\"\"\"\n",
    "    Informe de los tanques\n",
    "    \n",
    "    Tanque 1: {tanque1}\n",
    "    Tanque 2: {tanque2}\n",
    "    Tanque 3: {tanque3}\n",
    "    El promedio es: {prom}\"\"\")"
   ]
  },
  {
   "cell_type": "code",
   "execution_count": 24,
   "metadata": {},
   "outputs": [
    {
     "name": "stdout",
     "output_type": "stream",
     "text": [
      "\n",
      "    Informe de los tanques\n",
      "    \n",
      "    Tanque 1: 40\n",
      "    Tanque 2: 60\n",
      "    Tanque 3: 100\n",
      "    El promedio es: 66.66666666666667\n"
     ]
    }
   ],
   "source": [
    "info (40,60,100)"
   ]
  },
  {
   "cell_type": "code",
   "execution_count": 26,
   "metadata": {},
   "outputs": [
    {
     "name": "stdout",
     "output_type": "stream",
     "text": [
      "el promedio es: 73.0\n"
     ]
    }
   ],
   "source": [
    "def promediar (valores):\n",
    "    total=sum(valores)\n",
    "    cantidad=len(valores)\n",
    "    return total/cantidad\n",
    "\n",
    "valores=[90,65,83,54]\n",
    "print(f\"el promedio es: {promediar(valores)}\")"
   ]
  },
  {
   "cell_type": "code",
   "execution_count": 29,
   "metadata": {},
   "outputs": [
    {
     "name": "stdout",
     "output_type": "stream",
     "text": [
      "\n",
      "    Destino: Luna\n",
      "    Duración de la misión: 26 horas\n",
      "    Gasolina: 1100 litros\n",
      "    \n"
     ]
    }
   ],
   "source": [
    "def informe (prelanzamiento, tiempo, tanque_externo, tanque_interno, destino):\n",
    "    print (f\"\"\"\n",
    "    Destino: {destino}\n",
    "    Duración de la misión: {prelanzamiento+tiempo} horas\n",
    "    Gasolina: {tanque_externo+tanque_interno} litros\n",
    "    \"\"\")\n",
    "\n",
    "informe(2,24,600,500,\"Luna\")"
   ]
  },
  {
   "cell_type": "code",
   "execution_count": 31,
   "metadata": {},
   "outputs": [
    {
     "name": "stdout",
     "output_type": "stream",
     "text": [
      "\n",
      "    Destino: Marte\n",
      "    Duración de la misión: 65 horas\n",
      "    Gasolina: 2050 litros\n",
      "    \n"
     ]
    }
   ],
   "source": [
    "def informe (tiempos, tanques, destino):\n",
    "    print (f\"\"\"\n",
    "    Destino: {destino}\n",
    "    Duración de la misión: {sum(tiempos)} horas\n",
    "    Gasolina: {sum(tanques)} litros\n",
    "    \"\"\")\n",
    "\n",
    "tiempos=[2,50,3,4,6]\n",
    "tanques=[600,200,500,400,350]\n",
    "informe(tiempos, tanques, \"Marte\")"
   ]
  },
  {
   "cell_type": "code",
   "execution_count": 34,
   "metadata": {},
   "outputs": [
    {
     "name": "stdout",
     "output_type": "stream",
     "text": [
      "\n",
      "    Destino: Marte\n",
      "    Duración de la misión: 65 horas\n",
      "    Gasolina total: 2050 litros\n",
      "        Tanque 1: 600\n",
      "        Tanque 2: 200\n",
      "        Tanque 3: 500\n",
      "        Tanque 4: 400\n",
      "        Tanque 5: 350\n"
     ]
    }
   ],
   "source": [
    "def informe (tiempos, tanques, destino):\n",
    "    print (f\"\"\"\n",
    "    Destino: {destino}\n",
    "    Duración de la misión: {sum(tiempos)} horas\n",
    "    Gasolina total: {sum(tanques)} litros\"\"\")\n",
    "    for i in range(0,len(tanques)):\n",
    "        print(f\"        Tanque {i+1}: {tanques[i]}\")\n",
    "\n",
    "tiempos=[2,50,3,4,6]\n",
    "tanques=[600,200,500,400,350]\n",
    "informe(tiempos, tanques, \"Marte\")"
   ]
  }
 ],
 "metadata": {
  "interpreter": {
   "hash": "3be41b2d45040f01bc009424c30d4e1f0689f470fdedb74f5c4a83ed85c06539"
  },
  "kernelspec": {
   "display_name": "Python 3.10.2 64-bit",
   "language": "python",
   "name": "python3"
  },
  "language_info": {
   "codemirror_mode": {
    "name": "ipython",
    "version": 3
   },
   "file_extension": ".py",
   "mimetype": "text/x-python",
   "name": "python",
   "nbconvert_exporter": "python",
   "pygments_lexer": "ipython3",
   "version": "3.10.2"
  },
  "orig_nbformat": 4
 },
 "nbformat": 4,
 "nbformat_minor": 2
}
